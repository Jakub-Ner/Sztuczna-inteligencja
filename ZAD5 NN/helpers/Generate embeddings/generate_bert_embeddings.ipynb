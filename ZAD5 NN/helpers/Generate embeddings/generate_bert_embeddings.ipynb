{
  "cells": [
    {
      "cell_type": "markdown",
      "metadata": {
        "id": "kbT6CaFYXNzT"
      },
      "source": [
        "<h3>Install necessary package</h3>"
      ]
    },
    {
      "cell_type": "code",
      "execution_count": 7,
      "metadata": {
        "colab": {
          "base_uri": "https://localhost:8080/"
        },
        "id": "E2GisfgzT1a4",
        "outputId": "3f251448-8e34-4256-e18b-59496efe0d93"
      },
      "outputs": [
        {
          "name": "stderr",
          "output_type": "stream",
          "text": [
            "huggingface/tokenizers: The current process just got forked, after parallelism has already been used. Disabling parallelism to avoid deadlocks...\n",
            "To disable this warning, you can either:\n",
            "\t- Avoid using `tokenizers` before the fork if possible\n",
            "\t- Explicitly set the environment variable TOKENIZERS_PARALLELISM=(true | false)\n"
          ]
        },
        {
          "name": "stdout",
          "output_type": "stream",
          "text": [
            "Requirement already satisfied: sentence_transformers in /home/jakubner/anaconda3/lib/python3.11/site-packages (3.0.1)\n",
            "Requirement already satisfied: transformers<5.0.0,>=4.34.0 in /home/jakubner/anaconda3/lib/python3.11/site-packages (from sentence_transformers) (4.41.2)\n",
            "Requirement already satisfied: tqdm in /home/jakubner/anaconda3/lib/python3.11/site-packages (from sentence_transformers) (4.65.0)\n",
            "Requirement already satisfied: torch>=1.11.0 in /home/jakubner/anaconda3/lib/python3.11/site-packages (from sentence_transformers) (2.1.0)\n",
            "Requirement already satisfied: numpy in /home/jakubner/anaconda3/lib/python3.11/site-packages (from sentence_transformers) (1.24.3)\n",
            "Requirement already satisfied: scikit-learn in /home/jakubner/anaconda3/lib/python3.11/site-packages (from sentence_transformers) (1.3.0)\n",
            "Requirement already satisfied: scipy in /home/jakubner/anaconda3/lib/python3.11/site-packages (from sentence_transformers) (1.11.1)\n",
            "Requirement already satisfied: huggingface-hub>=0.15.1 in /home/jakubner/anaconda3/lib/python3.11/site-packages (from sentence_transformers) (0.23.4)\n",
            "Requirement already satisfied: Pillow in /home/jakubner/anaconda3/lib/python3.11/site-packages (from sentence_transformers) (9.4.0)\n",
            "Requirement already satisfied: filelock in /home/jakubner/anaconda3/lib/python3.11/site-packages (from huggingface-hub>=0.15.1->sentence_transformers) (3.13.1)\n",
            "Requirement already satisfied: fsspec>=2023.5.0 in /home/jakubner/anaconda3/lib/python3.11/site-packages (from huggingface-hub>=0.15.1->sentence_transformers) (2024.6.0)\n",
            "Requirement already satisfied: packaging>=20.9 in /home/jakubner/anaconda3/lib/python3.11/site-packages (from huggingface-hub>=0.15.1->sentence_transformers) (23.1)\n",
            "Requirement already satisfied: pyyaml>=5.1 in /home/jakubner/anaconda3/lib/python3.11/site-packages (from huggingface-hub>=0.15.1->sentence_transformers) (6.0)\n",
            "Requirement already satisfied: requests in /home/jakubner/anaconda3/lib/python3.11/site-packages (from huggingface-hub>=0.15.1->sentence_transformers) (2.31.0)\n",
            "Requirement already satisfied: typing-extensions>=3.7.4.3 in /home/jakubner/anaconda3/lib/python3.11/site-packages (from huggingface-hub>=0.15.1->sentence_transformers) (4.7.1)\n",
            "Requirement already satisfied: sympy in /home/jakubner/anaconda3/lib/python3.11/site-packages (from torch>=1.11.0->sentence_transformers) (1.11.1)\n",
            "Requirement already satisfied: networkx in /home/jakubner/anaconda3/lib/python3.11/site-packages (from torch>=1.11.0->sentence_transformers) (3.1)\n",
            "Requirement already satisfied: jinja2 in /home/jakubner/anaconda3/lib/python3.11/site-packages (from torch>=1.11.0->sentence_transformers) (3.1.2)\n",
            "Requirement already satisfied: regex!=2019.12.17 in /home/jakubner/anaconda3/lib/python3.11/site-packages (from transformers<5.0.0,>=4.34.0->sentence_transformers) (2022.7.9)\n",
            "Requirement already satisfied: tokenizers<0.20,>=0.19 in /home/jakubner/anaconda3/lib/python3.11/site-packages (from transformers<5.0.0,>=4.34.0->sentence_transformers) (0.19.1)\n",
            "Requirement already satisfied: safetensors>=0.4.1 in /home/jakubner/anaconda3/lib/python3.11/site-packages (from transformers<5.0.0,>=4.34.0->sentence_transformers) (0.4.3)\n",
            "Requirement already satisfied: joblib>=1.1.1 in /home/jakubner/anaconda3/lib/python3.11/site-packages (from scikit-learn->sentence_transformers) (1.2.0)\n",
            "Requirement already satisfied: threadpoolctl>=2.0.0 in /home/jakubner/anaconda3/lib/python3.11/site-packages (from scikit-learn->sentence_transformers) (2.2.0)\n",
            "Requirement already satisfied: MarkupSafe>=2.0 in /home/jakubner/anaconda3/lib/python3.11/site-packages (from jinja2->torch>=1.11.0->sentence_transformers) (2.1.1)\n",
            "Requirement already satisfied: charset-normalizer<4,>=2 in /home/jakubner/anaconda3/lib/python3.11/site-packages (from requests->huggingface-hub>=0.15.1->sentence_transformers) (2.0.4)\n",
            "Requirement already satisfied: idna<4,>=2.5 in /home/jakubner/anaconda3/lib/python3.11/site-packages (from requests->huggingface-hub>=0.15.1->sentence_transformers) (3.4)\n",
            "Requirement already satisfied: urllib3<3,>=1.21.1 in /home/jakubner/anaconda3/lib/python3.11/site-packages (from requests->huggingface-hub>=0.15.1->sentence_transformers) (1.26.16)\n",
            "Requirement already satisfied: certifi>=2017.4.17 in /home/jakubner/anaconda3/lib/python3.11/site-packages (from requests->huggingface-hub>=0.15.1->sentence_transformers) (2023.7.22)\n",
            "Requirement already satisfied: mpmath>=0.19 in /home/jakubner/anaconda3/lib/python3.11/site-packages (from sympy->torch>=1.11.0->sentence_transformers) (1.3.0)\n"
          ]
        }
      ],
      "source": [
        "!pip install sentence_transformers"
      ]
    },
    {
      "cell_type": "markdown",
      "metadata": {
        "id": "mZy9E3nJXVWT"
      },
      "source": [
        "<h3>Import class from the installed package</h3>"
      ]
    },
    {
      "cell_type": "code",
      "execution_count": 1,
      "metadata": {
        "id": "neiPf_AhSvQu"
      },
      "outputs": [
        {
          "name": "stderr",
          "output_type": "stream",
          "text": [
            "/home/jakubner/anaconda3/lib/python3.11/site-packages/sentence_transformers/cross_encoder/CrossEncoder.py:11: TqdmExperimentalWarning: Using `tqdm.autonotebook.tqdm` in notebook mode. Use `tqdm.tqdm` instead to force console mode (e.g. in jupyter console)\n",
            "  from tqdm.autonotebook import tqdm, trange\n"
          ]
        }
      ],
      "source": [
        "from sentence_transformers import SentenceTransformer"
      ]
    },
    {
      "cell_type": "markdown",
      "metadata": {
        "id": "Qi3scihVXcI5"
      },
      "source": [
        "<h3>Download BERT model</h3>"
      ]
    },
    {
      "cell_type": "code",
      "execution_count": 2,
      "metadata": {
        "colab": {
          "base_uri": "https://localhost:8080/"
        },
        "id": "7WLwyZEeUGGT",
        "outputId": "288ca7e7-8cb1-48be-a86b-5d24fda56053"
      },
      "outputs": [
        {
          "name": "stderr",
          "output_type": "stream",
          "text": [
            "No sentence-transformers model found with name bert-base-cased. Creating a new one with mean pooling.\n",
            "/home/jakubner/anaconda3/lib/python3.11/site-packages/huggingface_hub/file_download.py:1132: FutureWarning: `resume_download` is deprecated and will be removed in version 1.0.0. Downloads always resume when possible. If you want to force a new download, use `force_download=True`.\n",
            "  warnings.warn(\n"
          ]
        }
      ],
      "source": [
        "model = SentenceTransformer('bert-base-cased')"
      ]
    },
    {
      "cell_type": "markdown",
      "metadata": {
        "id": "GHau-0a2XmnX"
      },
      "source": [
        "<h3>Generate embeddings for the specified list of texts</h3>"
      ]
    },
    {
      "cell_type": "code",
      "execution_count": 5,
      "metadata": {
        "colab": {
          "base_uri": "https://localhost:8080/"
        },
        "id": "syWVnL4AUOJQ",
        "outputId": "9ce500c8-1f49-44a0-ec45-673a5fd31709"
      },
      "outputs": [
        {
          "data": {
            "text/plain": [
              "array([[ 1.96200505e-01,  7.52219632e-02,  1.45697549e-01,\n",
              "         3.14003587e-01,  1.70908347e-01,  2.03367546e-01,\n",
              "        -1.81390911e-01, -4.67418171e-02, -1.60037845e-01,\n",
              "        -8.01009387e-02,  1.33317029e-02, -1.68233797e-01,\n",
              "        -2.68857002e-01,  3.82407606e-01, -2.95120895e-01,\n",
              "        -1.14426509e-01, -1.01386614e-01, -1.38045907e-01,\n",
              "         5.64516746e-02,  2.09068060e-02, -6.31936789e-02,\n",
              "        -1.28470687e-02, -3.61861199e-01,  1.48198023e-01,\n",
              "        -1.28062874e-01, -2.74180412e-01,  8.98615085e-03,\n",
              "         6.01029038e-01,  2.62660086e-01,  1.44518748e-01,\n",
              "        -1.02743775e-01, -5.65414764e-02, -6.04010075e-02,\n",
              "        -1.11606620e-01,  1.84287667e-01,  1.38735056e-01,\n",
              "         1.23070359e-01,  4.81249392e-01, -3.07504147e-01,\n",
              "         4.80319671e-02, -6.36541322e-02, -1.94032751e-02,\n",
              "        -2.14529037e-01,  1.07756577e-01,  6.93173483e-02,\n",
              "        -1.42185129e-02, -1.84686348e-01,  9.60670412e-02,\n",
              "         9.13192779e-02,  1.73053786e-01,  2.49699339e-01,\n",
              "         5.90458587e-02,  2.36928053e-02, -1.35994637e-02,\n",
              "         1.12710103e-01, -2.90320992e-01,  7.14733377e-02,\n",
              "         4.73407134e-02, -1.71516165e-01,  3.56491387e-01,\n",
              "         1.54400587e-01, -2.70022839e-01, -1.68172698e-02,\n",
              "         2.45434389e-01,  5.98836280e-02,  4.22162265e-01,\n",
              "         3.56985390e-01, -2.99472421e-01,  2.41895735e-01,\n",
              "        -2.91584373e-01,  6.08520396e-02,  1.66414887e-01,\n",
              "        -3.97524267e-01, -1.50669524e-02, -3.68073732e-02,\n",
              "        -2.59621710e-01,  1.63480178e-01,  5.40405139e-02,\n",
              "        -2.59744406e-01, -2.28739366e-01,  2.21656859e-01,\n",
              "         4.85561907e-01,  1.04718683e-02,  4.40547466e-01,\n",
              "         7.05647990e-02,  1.37249708e-01,  4.99548391e-02,\n",
              "         2.15864688e-01, -1.23590663e-01,  2.66876966e-01,\n",
              "         1.29464805e-01, -4.41774875e-01,  2.14481980e-01,\n",
              "         2.36645881e-02,  2.10426319e-02,  6.02956787e-02,\n",
              "         6.23170100e-02,  1.48168847e-01, -1.62840292e-01,\n",
              "         1.32706895e-01, -3.96347567e-02, -3.85903716e-02,\n",
              "         4.65629548e-02, -4.19061929e-02, -5.86077236e-02,\n",
              "         2.45556906e-01,  1.41179055e-01, -1.66304290e-01,\n",
              "        -7.62247667e-02,  1.78326026e-01, -3.51621658e-02,\n",
              "         8.44653398e-02,  2.09484816e-01, -1.67645812e-02,\n",
              "        -3.96619663e-02, -2.51842048e-02,  3.27464670e-01,\n",
              "        -1.19839348e-01,  2.67814785e-01,  1.70841932e-01,\n",
              "         2.79242426e-01,  1.93259344e-02,  1.40362024e-01,\n",
              "        -2.27399617e-02,  7.26883784e-02, -1.14594787e-01,\n",
              "        -5.82475662e-02, -3.00265610e-01,  4.00746882e-01,\n",
              "         1.65529504e-01, -4.00918543e-01,  1.59462348e-01,\n",
              "         2.60293424e-01,  3.09028357e-01, -5.66811673e-02,\n",
              "        -1.06898338e-01, -2.78322846e-01,  2.34642297e-01,\n",
              "        -1.20101559e+00, -1.98416755e-01, -2.03297541e-01,\n",
              "         2.40834299e-02,  2.87634164e-01, -9.18340385e-02,\n",
              "         1.36897271e-03,  1.41810626e-01, -2.34122023e-01,\n",
              "        -6.08917698e-02,  2.13154152e-01,  3.63091230e-01,\n",
              "        -5.36893189e-01, -1.11043900e-01,  2.44175479e-01,\n",
              "        -1.21890036e-02,  1.07288398e-02, -5.19765794e-01,\n",
              "        -1.65754072e-02, -5.85428365e-02,  7.68591344e-01,\n",
              "        -1.59757763e-01, -1.11682199e-01, -2.29774624e-01,\n",
              "        -9.37967300e-02,  3.04149032e-01,  1.44864051e-02,\n",
              "        -1.41179934e-01,  3.67364287e-01,  3.38134408e-01,\n",
              "        -2.47595847e-01,  4.34216201e-01, -7.29448572e-02,\n",
              "        -1.74982116e-01,  5.72742485e-02,  9.84314680e-02,\n",
              "         1.13241710e-01, -7.79004991e-02,  4.62743104e-01,\n",
              "        -2.09763646e-01,  2.48263758e-02,  1.53887244e-02,\n",
              "         9.06392410e-02, -2.61349589e-01, -3.23553950e-01,\n",
              "        -2.11817287e-02, -2.20648833e-02,  7.25632831e-02,\n",
              "         5.58834560e-02,  6.66327626e-02,  2.68746734e-01,\n",
              "         4.44511384e-01,  2.38482594e-01, -9.76076350e-02,\n",
              "        -2.04213902e-01, -4.54296218e-03, -2.95714080e-01,\n",
              "         4.17570071e-03,  6.61078766e-02,  2.02910975e-03,\n",
              "         1.10627808e-01,  3.58279124e-02, -1.78192541e-01,\n",
              "         1.09524086e-01, -3.37836236e-01,  3.22508007e-01,\n",
              "        -2.14675859e-01,  2.10271642e-01, -1.92309901e-01,\n",
              "         3.45762670e-01, -3.05652112e-01, -3.09210986e-01,\n",
              "         2.17434064e-01, -1.78723961e-01, -1.94540713e-02,\n",
              "         9.71639752e-02, -2.98297405e-01,  9.93316155e-03,\n",
              "         1.72245875e-01, -1.20716996e-01,  2.04610273e-01,\n",
              "         2.95145005e-01, -3.59603427e-02, -5.21642826e-02,\n",
              "        -7.44779184e-02,  3.27481292e-02, -3.27627152e-01,\n",
              "         1.85451820e-01,  3.97086702e-02,  9.15063452e-03,\n",
              "         2.37369463e-01, -1.09324940e-01,  6.97527751e-02,\n",
              "         3.54780287e-01, -8.67206827e-02, -5.76745020e-03,\n",
              "        -8.25932473e-02, -1.10306935e-02, -3.07594389e-01,\n",
              "         1.15574747e-01, -3.51472586e-01,  1.30605936e-01,\n",
              "        -8.66979063e-02, -1.36824235e-01,  3.87971401e-01,\n",
              "        -5.60067873e-03,  1.26365244e-01,  7.91196078e-02,\n",
              "         1.79702878e-01,  3.60550970e-01,  2.11166777e-02,\n",
              "         8.22685584e-02,  1.92551911e-01, -2.42934778e-01,\n",
              "        -4.73364264e-01,  1.65190287e-02,  4.45626169e-01,\n",
              "         1.99393377e-01, -2.29189917e-01,  3.00752223e-01,\n",
              "         8.22098032e-02, -1.25756502e-01, -7.74005204e-02,\n",
              "         1.81671500e-01,  1.46975452e-02, -1.02033868e-01,\n",
              "         3.76643352e-02, -3.45232904e-01, -1.30807295e-01,\n",
              "        -9.69018564e-02, -7.52647519e-02,  3.41714203e-01,\n",
              "         3.25923145e-01,  1.82390958e-01,  1.29989743e-01,\n",
              "         2.22543642e-01, -3.96318734e-01,  9.05298814e-02,\n",
              "        -3.70432157e-03, -3.20133686e-01,  2.04457790e-02,\n",
              "        -5.20026982e-01,  1.87474579e-01, -1.11988060e-01,\n",
              "         4.70490418e-02, -2.22779699e-02, -2.23162964e-01,\n",
              "        -8.23826180e-04,  1.99960515e-01,  7.81712383e-02,\n",
              "        -2.23885596e-01, -1.17465332e-01,  7.53563792e-02,\n",
              "        -5.50636351e-02, -2.69212067e-01, -3.13365400e-01,\n",
              "         1.00666679e-01, -1.09405741e-02, -5.03948152e-01,\n",
              "        -4.69166506e-03, -2.38289401e-01,  2.77642220e-01,\n",
              "         3.69870126e-01,  1.50006399e-01,  1.64321497e-01,\n",
              "        -9.47675928e-02, -5.70516527e-01,  1.06767751e-01,\n",
              "         2.32330918e-01,  8.31776038e-02,  4.41781968e-01,\n",
              "         1.13636568e-01,  3.71074647e-01,  1.06964715e-01,\n",
              "        -2.73400337e-01, -4.11996357e-02,  1.20445028e-01,\n",
              "        -1.10780969e-01, -8.96435976e-02,  9.51547921e-02,\n",
              "        -2.87095606e-01,  1.90088570e-01, -7.68151283e-02,\n",
              "        -1.03322290e-01,  8.12133327e-02,  6.59987330e-02,\n",
              "         1.84112098e-02,  8.34962502e-02, -1.45996645e-01,\n",
              "         1.54267192e-01,  1.88377276e-02, -4.80231583e-01,\n",
              "        -7.10565189e-04, -1.05447553e-01, -1.12961791e-01,\n",
              "        -6.36817887e-02,  1.04850799e-01, -2.42115527e-01,\n",
              "        -3.68190050e-01,  1.58783525e-01,  1.09256692e-01,\n",
              "         4.69658375e-01,  2.88937986e-01,  1.60087705e-01,\n",
              "        -6.11230023e-02, -2.92751908e-01,  1.04386225e-01,\n",
              "         1.08799018e-01, -2.19581708e-01, -1.37175933e-01,\n",
              "        -2.56618291e-01,  7.44955614e-02, -7.02790357e-03,\n",
              "        -2.06667319e-01, -2.37547442e-01, -2.15219125e-01,\n",
              "         2.12501168e-01, -2.12710872e-01,  3.08462214e-02,\n",
              "         1.35295227e-01, -3.04403547e-02,  1.15079872e-01,\n",
              "        -2.26303078e-02,  1.49513185e-01, -1.87164485e-01,\n",
              "        -9.94666517e-02, -6.67853132e-02, -1.36703640e-01,\n",
              "         4.09256145e-02,  1.35916486e-01, -3.82551402e-01,\n",
              "         2.20646366e-01,  2.70550311e-01, -3.16958964e-01,\n",
              "         1.14625640e-01,  2.40064070e-01, -1.43250730e-02,\n",
              "         1.12768281e-02, -2.38496348e-01, -2.94554353e-01,\n",
              "         1.29214734e-01, -5.25201201e-01,  2.42268711e-01,\n",
              "         1.90050051e-01, -1.60242319e-01, -3.45342606e-01,\n",
              "        -8.39244798e-02,  6.19040765e-02, -1.92716345e-01,\n",
              "         3.44791621e-01,  7.79611319e-02, -9.25956964e-02,\n",
              "         1.53549910e-01, -2.41764054e-01,  1.45549282e-01,\n",
              "         1.72573075e-01, -2.93669343e-01, -8.07493925e-02,\n",
              "        -4.93710220e-01, -2.44465426e-01, -8.79919305e-02,\n",
              "        -7.53677264e-02,  1.28403574e-01, -3.66999470e-02,\n",
              "        -6.26841336e-02,  5.85475564e-02, -4.25438792e-01,\n",
              "        -3.64894345e-02, -7.26593251e-04, -1.27583101e-01,\n",
              "        -1.40818387e-01, -1.01666629e-01, -1.77944764e-01,\n",
              "        -3.83384854e-01,  2.08194777e-01,  2.44034022e-01,\n",
              "        -4.58774753e-02, -2.11569652e-01, -2.75371552e-01,\n",
              "         2.42037147e-01,  4.85933460e-02, -1.14600986e-01,\n",
              "        -1.74445078e-01,  1.83039010e-01,  2.09320843e-01,\n",
              "         2.97380894e-01,  4.41174150e-01,  7.89728668e-03,\n",
              "        -2.24324971e-01,  2.00991370e-02, -3.01349461e-01,\n",
              "         2.47633427e-01,  1.12499461e-01,  1.81113303e-01,\n",
              "        -1.83293074e-01,  1.04798954e-02, -6.40119165e-02,\n",
              "         9.03187990e-02,  1.01368621e-01, -1.46438792e-01,\n",
              "        -3.60726267e-02,  1.14111707e-01,  3.28683972e-01,\n",
              "        -1.31372139e-01,  1.30725458e-01, -4.73942846e-01,\n",
              "         4.32046391e-02, -1.97166800e-01, -1.26506984e-01,\n",
              "         8.00928250e-02, -1.83767468e-01,  8.58101249e-02,\n",
              "         3.72501254e-01,  5.99671677e-02, -3.59031647e-01,\n",
              "         1.41484842e-01, -1.86766665e-02, -3.60753596e-01,\n",
              "         6.45278096e-02, -1.25783533e-01,  8.74369964e-02,\n",
              "         6.81382716e-02, -5.16745567e-01,  1.63494363e-01,\n",
              "        -1.69752061e-01,  2.78038055e-01,  2.90157288e-01,\n",
              "        -2.10937187e-01,  3.75182666e-02,  4.10329789e-01,\n",
              "         1.61115170e-01,  1.02588437e-01,  5.36278009e-01,\n",
              "        -5.62719516e-02,  4.95073423e-02,  3.13516110e-01,\n",
              "        -1.30270377e-01, -3.86681646e-01, -1.32591873e-01,\n",
              "         1.35997847e-01,  1.48289889e-01, -1.39868528e-01,\n",
              "        -2.41252884e-01,  1.08073168e-01, -2.48613745e-01,\n",
              "        -2.35835373e-01,  6.34663031e-02,  1.22786544e-01,\n",
              "         2.85276502e-01,  4.88641299e-02,  1.10282473e-01,\n",
              "         3.70408148e-01, -1.17140032e-01,  3.13603818e-01,\n",
              "        -5.21603785e-02,  1.24208003e-01,  1.38608381e-01,\n",
              "        -1.83150992e-01,  2.60867197e-02, -1.79501906e-01,\n",
              "        -2.66424298e-01, -5.95503598e-02, -3.36333476e-02,\n",
              "        -3.88550580e-01,  3.96366090e-01,  6.45486787e-02,\n",
              "        -4.11058553e-02,  8.18886518e-01,  1.06511235e-01,\n",
              "         7.97137693e-02,  2.18515754e-01, -1.30705684e-01,\n",
              "         1.17078118e-01, -5.20158470e-01, -2.63730794e-01,\n",
              "         1.18999571e-01, -1.63129792e-01, -6.92975596e-02,\n",
              "         1.45536155e-01,  9.97400284e-02,  2.37469777e-01,\n",
              "         1.01042591e-01,  3.61400843e-01, -3.48281890e-01,\n",
              "         5.34906797e-03, -2.99368501e-01, -1.07719995e-01,\n",
              "         1.07407413e-01,  3.53791803e-01, -7.00599998e-02,\n",
              "        -1.02470711e-01,  3.90135050e-02, -6.66621001e-03,\n",
              "         2.06489801e-01, -2.15314254e-02, -2.64568120e-01,\n",
              "         7.76617885e-01, -4.94692504e-01,  5.05594052e-02,\n",
              "        -6.30107224e-02,  1.22409441e-01,  5.76627888e-02,\n",
              "        -2.04320759e-01, -5.26697002e-02,  4.04442936e-01,\n",
              "         2.57225692e-01, -2.51733482e-01,  5.18435121e-01,\n",
              "         5.28034084e-02,  6.32192940e-02,  3.97934113e-03,\n",
              "         1.58776581e-01,  3.86304229e-01, -3.08992695e-02,\n",
              "        -4.52457786e-01, -1.30154997e-01, -1.22231901e-01,\n",
              "         1.43683642e-01,  8.83747637e-02, -7.44962120e+00,\n",
              "         2.41065904e-01, -1.51341364e-01,  1.17986590e-01,\n",
              "         3.71186398e-02,  8.19089189e-02, -8.13584924e-02,\n",
              "        -1.09473869e-01, -2.14805435e-02, -4.94548641e-02,\n",
              "         1.44859418e-01, -8.12962279e-02,  1.20834954e-01,\n",
              "         8.48326162e-02, -4.45559360e-02, -2.02792913e-01,\n",
              "        -4.37917501e-01,  3.24393995e-03,  3.21032763e-01,\n",
              "         1.62193254e-01,  7.94777996e-04,  3.44923109e-01,\n",
              "        -6.69568777e-02,  2.05127701e-01,  4.09941882e-01,\n",
              "         1.85745627e-01,  4.30456698e-02,  1.67797282e-01,\n",
              "         3.06330472e-01, -3.18498373e-01,  7.66757503e-03,\n",
              "         2.30010465e-01, -4.05201197e-01, -2.15605721e-01,\n",
              "         5.00079840e-02, -1.91386327e-01,  1.85691178e-01,\n",
              "         2.37305522e-01,  4.67974842e-02, -1.80660129e-01,\n",
              "         5.06646931e-02, -1.23420112e-01, -2.70058572e-01,\n",
              "         1.01961538e-01,  2.85434186e-01,  2.32873917e-01,\n",
              "         4.96234782e-02, -3.82902175e-02, -1.96588308e-01,\n",
              "         1.39349222e-01,  4.32400674e-01, -7.63394237e-02,\n",
              "         2.49279648e-01, -1.41592652e-01,  6.93949685e-02,\n",
              "         2.14702278e-01,  5.29683754e-02,  4.23639029e-01,\n",
              "         1.50773555e-01,  1.75785646e-02, -1.50838923e-02,\n",
              "        -2.53854126e-01,  3.69925261e-01, -6.22546375e-02,\n",
              "        -2.02573925e-01,  2.56154627e-01, -1.85822751e-02,\n",
              "         2.18041725e-02, -1.35191798e-01, -1.81509822e-04,\n",
              "        -3.07729328e-03, -8.61199647e-02, -1.48212925e-01,\n",
              "        -3.54751438e-01,  1.03637561e-01, -1.25109315e-01,\n",
              "        -5.26940823e-03, -1.96770772e-01,  6.39840513e-02,\n",
              "         1.94866687e-01,  6.68272376e-02,  7.63210729e-02,\n",
              "         6.06196940e-01,  1.70919552e-01, -2.00892136e-01,\n",
              "        -1.24501653e-01, -1.85316324e-01, -1.41121313e-01,\n",
              "         2.01134950e-01,  6.79471567e-02,  4.73229866e-03,\n",
              "        -3.24992985e-01,  1.15033858e-01, -3.93630594e-01,\n",
              "        -2.27687836e-01, -1.17239602e-01, -1.70482650e-01,\n",
              "        -5.20995818e-02,  1.38882428e-01,  3.08734059e-01,\n",
              "        -2.44180739e-01,  7.66737610e-02,  6.85884431e-02,\n",
              "        -1.03689164e-01,  5.07885627e-02, -3.01707864e-01,\n",
              "        -8.01969543e-02, -3.07185441e-01,  2.20914125e-01,\n",
              "        -5.27510829e-02, -1.68074712e-01,  1.78989708e-01,\n",
              "         2.33192652e-01,  5.31776901e-03,  3.11839581e-01,\n",
              "         3.22104782e-01,  1.83694631e-01,  8.56705457e-02,\n",
              "         1.33553650e-02, -3.15220088e-01,  3.59984547e-01,\n",
              "        -1.16846010e-01,  5.82559220e-02, -1.96970165e-01,\n",
              "        -1.90012604e-01,  1.76090047e-01, -1.74707606e-01,\n",
              "        -6.59799352e-02,  5.67496121e-02, -2.33606964e-01,\n",
              "         1.86384439e-01,  6.01551011e-02, -5.31943798e-01,\n",
              "         5.28276145e-01, -9.07559469e-02, -2.57082403e-01,\n",
              "        -3.04718792e-01,  7.44553357e-02, -1.01396494e-01,\n",
              "        -1.87256858e-01, -6.75719976e-01, -1.31258413e-01,\n",
              "         1.45466357e-01,  1.09132893e-01,  2.10941330e-01,\n",
              "        -1.48814946e-01, -4.51282002e-02, -2.72766531e-01,\n",
              "         2.07766853e-02, -1.21849656e-01, -3.75049800e-01,\n",
              "         8.44059736e-02, -1.66858844e-02,  1.96280554e-01,\n",
              "        -2.86290739e-02, -1.70750678e-01,  1.95178151e-01,\n",
              "         1.47996992e-01, -9.76581220e-03, -4.06141840e-02,\n",
              "        -1.82238877e-01, -4.73438613e-02, -2.03524485e-01,\n",
              "        -1.02935851e-01,  8.31801370e-02,  1.14352698e-03,\n",
              "         2.80537128e-01, -2.07916260e-01, -1.41614690e-01,\n",
              "         2.44184192e-02,  3.31366509e-02, -1.67385250e-01,\n",
              "         8.54657516e-02,  3.84514123e-01, -2.97566026e-01,\n",
              "        -3.38746518e-01,  2.38846213e-01,  9.99151245e-02,\n",
              "        -9.00236517e-03,  7.21994638e-02,  6.46991879e-02,\n",
              "        -4.23683971e-02,  7.81816989e-02, -1.04350433e-01,\n",
              "         7.61350095e-02,  1.28966808e-01,  5.00763580e-03,\n",
              "        -1.39703393e-01, -1.98927075e-01, -4.79714721e-02,\n",
              "         5.02014300e-03, -2.40598783e-01,  8.88503715e-02,\n",
              "         2.37291396e-01, -3.09800971e-02,  7.69701079e-02,\n",
              "        -5.99027015e-02, -1.76567525e-01,  1.77954912e-01,\n",
              "         3.29657406e-01, -2.97355026e-01, -1.11916311e-01,\n",
              "         7.17226267e-02,  5.88409267e-02, -9.53942910e-02,\n",
              "         2.89103508e-01, -5.38042746e-02,  7.03809708e-02,\n",
              "         2.87609398e-01, -1.94474235e-01,  7.57986754e-02]], dtype=float32)"
            ]
          },
          "execution_count": 5,
          "metadata": {},
          "output_type": "execute_result"
        }
      ],
      "source": [
        "text1 = \"\"\"\"May I take your order?\" the waiter asked. \n",
        "\n",
        "\"Yes, how do you prepare your chickens?\" \n",
        "\n",
        "\"Nothing special sir,\" he replied. \"We just tell them straight out\n",
        "that they're going to die.\"\"\"\n",
        "\n",
        "embeddings = model.encode([text1])\n",
        "embeddings"
      ]
    },
    {
      "cell_type": "code",
      "execution_count": 15,
      "metadata": {},
      "outputs": [],
      "source": [
        "text2 = \"\"\"\"May I take your order?\" the waiter asked. \n",
        "\"Yes, how do you prepare your chickens?\" \n",
        "\"Nothing special sir,\" he replied. \"We just tell them straight out\n",
        "that they're going to die.\"\"\"\n",
        "\n",
        "embeddings2 = model.encode([text2])"
      ]
    },
    {
      "cell_type": "code",
      "execution_count": 16,
      "metadata": {},
      "outputs": [
        {
          "name": "stdout",
          "output_type": "stream",
          "text": [
            "Cosine similarity between text1 and text2: 0.9999998807907104\n"
          ]
        }
      ],
      "source": [
        "from sklearn.metrics.pairwise import cosine_similarity\n",
        "\n",
        "cos_sim = cosine_similarity(embeddings, embeddings2)\n",
        "\n",
        "print(f\"Cosine similarity between text1 and text2: {cos_sim[0][0]}\")"
      ]
    },
    {
      "cell_type": "code",
      "execution_count": null,
      "metadata": {},
      "outputs": [],
      "source": []
    }
  ],
  "metadata": {
    "colab": {
      "provenance": []
    },
    "kernelspec": {
      "display_name": "Python 3",
      "name": "python3"
    },
    "language_info": {
      "codemirror_mode": {
        "name": "ipython",
        "version": 3
      },
      "file_extension": ".py",
      "mimetype": "text/x-python",
      "name": "python",
      "nbconvert_exporter": "python",
      "pygments_lexer": "ipython3",
      "version": "3.11.5"
    }
  },
  "nbformat": 4,
  "nbformat_minor": 0
}
