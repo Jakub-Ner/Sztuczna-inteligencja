{
  "cells": [
    {
      "cell_type": "markdown",
      "metadata": {
        "id": "kbT6CaFYXNzT"
      },
      "source": [
        "<h3>Install necessary package</h3>"
      ]
    },
    {
      "cell_type": "code",
      "execution_count": 7,
      "metadata": {
        "colab": {
          "base_uri": "https://localhost:8080/"
        },
        "id": "E2GisfgzT1a4",
        "outputId": "3f251448-8e34-4256-e18b-59496efe0d93"
      },
      "outputs": [
        {
          "name": "stderr",
          "output_type": "stream",
          "text": [
            "huggingface/tokenizers: The current process just got forked, after parallelism has already been used. Disabling parallelism to avoid deadlocks...\n",
            "To disable this warning, you can either:\n",
            "\t- Avoid using `tokenizers` before the fork if possible\n",
            "\t- Explicitly set the environment variable TOKENIZERS_PARALLELISM=(true | false)\n"
          ]
        },
        {
          "name": "stdout",
          "output_type": "stream",
          "text": [
            "Requirement already satisfied: sentence_transformers in /home/jakubner/anaconda3/lib/python3.11/site-packages (3.0.1)\n",
            "Requirement already satisfied: transformers<5.0.0,>=4.34.0 in /home/jakubner/anaconda3/lib/python3.11/site-packages (from sentence_transformers) (4.41.2)\n",
            "Requirement already satisfied: tqdm in /home/jakubner/anaconda3/lib/python3.11/site-packages (from sentence_transformers) (4.65.0)\n",
            "Requirement already satisfied: torch>=1.11.0 in /home/jakubner/anaconda3/lib/python3.11/site-packages (from sentence_transformers) (2.1.0)\n",
            "Requirement already satisfied: numpy in /home/jakubner/anaconda3/lib/python3.11/site-packages (from sentence_transformers) (1.24.3)\n",
            "Requirement already satisfied: scikit-learn in /home/jakubner/anaconda3/lib/python3.11/site-packages (from sentence_transformers) (1.3.0)\n",
            "Requirement already satisfied: scipy in /home/jakubner/anaconda3/lib/python3.11/site-packages (from sentence_transformers) (1.11.1)\n",
            "Requirement already satisfied: huggingface-hub>=0.15.1 in /home/jakubner/anaconda3/lib/python3.11/site-packages (from sentence_transformers) (0.23.4)\n",
            "Requirement already satisfied: Pillow in /home/jakubner/anaconda3/lib/python3.11/site-packages (from sentence_transformers) (9.4.0)\n",
            "Requirement already satisfied: filelock in /home/jakubner/anaconda3/lib/python3.11/site-packages (from huggingface-hub>=0.15.1->sentence_transformers) (3.13.1)\n",
            "Requirement already satisfied: fsspec>=2023.5.0 in /home/jakubner/anaconda3/lib/python3.11/site-packages (from huggingface-hub>=0.15.1->sentence_transformers) (2024.6.0)\n",
            "Requirement already satisfied: packaging>=20.9 in /home/jakubner/anaconda3/lib/python3.11/site-packages (from huggingface-hub>=0.15.1->sentence_transformers) (23.1)\n",
            "Requirement already satisfied: pyyaml>=5.1 in /home/jakubner/anaconda3/lib/python3.11/site-packages (from huggingface-hub>=0.15.1->sentence_transformers) (6.0)\n",
            "Requirement already satisfied: requests in /home/jakubner/anaconda3/lib/python3.11/site-packages (from huggingface-hub>=0.15.1->sentence_transformers) (2.31.0)\n",
            "Requirement already satisfied: typing-extensions>=3.7.4.3 in /home/jakubner/anaconda3/lib/python3.11/site-packages (from huggingface-hub>=0.15.1->sentence_transformers) (4.7.1)\n",
            "Requirement already satisfied: sympy in /home/jakubner/anaconda3/lib/python3.11/site-packages (from torch>=1.11.0->sentence_transformers) (1.11.1)\n",
            "Requirement already satisfied: networkx in /home/jakubner/anaconda3/lib/python3.11/site-packages (from torch>=1.11.0->sentence_transformers) (3.1)\n",
            "Requirement already satisfied: jinja2 in /home/jakubner/anaconda3/lib/python3.11/site-packages (from torch>=1.11.0->sentence_transformers) (3.1.2)\n",
            "Requirement already satisfied: regex!=2019.12.17 in /home/jakubner/anaconda3/lib/python3.11/site-packages (from transformers<5.0.0,>=4.34.0->sentence_transformers) (2022.7.9)\n",
            "Requirement already satisfied: tokenizers<0.20,>=0.19 in /home/jakubner/anaconda3/lib/python3.11/site-packages (from transformers<5.0.0,>=4.34.0->sentence_transformers) (0.19.1)\n",
            "Requirement already satisfied: safetensors>=0.4.1 in /home/jakubner/anaconda3/lib/python3.11/site-packages (from transformers<5.0.0,>=4.34.0->sentence_transformers) (0.4.3)\n",
            "Requirement already satisfied: joblib>=1.1.1 in /home/jakubner/anaconda3/lib/python3.11/site-packages (from scikit-learn->sentence_transformers) (1.2.0)\n",
            "Requirement already satisfied: threadpoolctl>=2.0.0 in /home/jakubner/anaconda3/lib/python3.11/site-packages (from scikit-learn->sentence_transformers) (2.2.0)\n",
            "Requirement already satisfied: MarkupSafe>=2.0 in /home/jakubner/anaconda3/lib/python3.11/site-packages (from jinja2->torch>=1.11.0->sentence_transformers) (2.1.1)\n",
            "Requirement already satisfied: charset-normalizer<4,>=2 in /home/jakubner/anaconda3/lib/python3.11/site-packages (from requests->huggingface-hub>=0.15.1->sentence_transformers) (2.0.4)\n",
            "Requirement already satisfied: idna<4,>=2.5 in /home/jakubner/anaconda3/lib/python3.11/site-packages (from requests->huggingface-hub>=0.15.1->sentence_transformers) (3.4)\n",
            "Requirement already satisfied: urllib3<3,>=1.21.1 in /home/jakubner/anaconda3/lib/python3.11/site-packages (from requests->huggingface-hub>=0.15.1->sentence_transformers) (1.26.16)\n",
            "Requirement already satisfied: certifi>=2017.4.17 in /home/jakubner/anaconda3/lib/python3.11/site-packages (from requests->huggingface-hub>=0.15.1->sentence_transformers) (2023.7.22)\n",
            "Requirement already satisfied: mpmath>=0.19 in /home/jakubner/anaconda3/lib/python3.11/site-packages (from sympy->torch>=1.11.0->sentence_transformers) (1.3.0)\n"
          ]
        }
      ],
      "source": [
        "!pip install sentence_transformers"
      ]
    },
    {
      "cell_type": "markdown",
      "metadata": {
        "id": "mZy9E3nJXVWT"
      },
      "source": [
        "<h3>Import class from the installed package</h3>"
      ]
    },
    {
      "cell_type": "code",
      "execution_count": 8,
      "metadata": {
        "id": "neiPf_AhSvQu"
      },
      "outputs": [],
      "source": [
        "from sentence_transformers import SentenceTransformer"
      ]
    },
    {
      "cell_type": "markdown",
      "metadata": {
        "id": "Qi3scihVXcI5"
      },
      "source": [
        "<h3>Download BERT model</h3>"
      ]
    },
    {
      "cell_type": "code",
      "execution_count": 9,
      "metadata": {
        "colab": {
          "base_uri": "https://localhost:8080/"
        },
        "id": "7WLwyZEeUGGT",
        "outputId": "288ca7e7-8cb1-48be-a86b-5d24fda56053"
      },
      "outputs": [
        {
          "name": "stderr",
          "output_type": "stream",
          "text": [
            "No sentence-transformers model found with name bert-base-cased. Creating a new one with mean pooling.\n",
            "/home/jakubner/anaconda3/lib/python3.11/site-packages/huggingface_hub/file_download.py:1132: FutureWarning: `resume_download` is deprecated and will be removed in version 1.0.0. Downloads always resume when possible. If you want to force a new download, use `force_download=True`.\n",
            "  warnings.warn(\n"
          ]
        }
      ],
      "source": [
        "model = SentenceTransformer('bert-base-cased')"
      ]
    },
    {
      "cell_type": "markdown",
      "metadata": {
        "id": "GHau-0a2XmnX"
      },
      "source": [
        "<h3>Generate embeddings for the specified list of texts</h3>"
      ]
    },
    {
      "cell_type": "code",
      "execution_count": 14,
      "metadata": {
        "colab": {
          "base_uri": "https://localhost:8080/"
        },
        "id": "syWVnL4AUOJQ",
        "outputId": "9ce500c8-1f49-44a0-ec45-673a5fd31709"
      },
      "outputs": [],
      "source": [
        "text1 = \"\"\"\"May I take your order?\" the waiter asked. \n",
        "\n",
        "\"Yes, how do you prepare your chickens?\" \n",
        "\n",
        "\"Nothing special sir,\" he replied. \"We just tell them straight out\n",
        "that they're going to die.\"\"\"\n",
        "\n",
        "embeddings = model.encode([text1])"
      ]
    },
    {
      "cell_type": "code",
      "execution_count": 15,
      "metadata": {},
      "outputs": [],
      "source": [
        "text2 = \"\"\"\"May I take your order?\" the waiter asked. \n",
        "\"Yes, how do you prepare your chickens?\" \n",
        "\"Nothing special sir,\" he replied. \"We just tell them straight out\n",
        "that they're going to die.\"\"\"\n",
        "\n",
        "embeddings2 = model.encode([text2])"
      ]
    },
    {
      "cell_type": "code",
      "execution_count": 16,
      "metadata": {},
      "outputs": [
        {
          "name": "stdout",
          "output_type": "stream",
          "text": [
            "Cosine similarity between text1 and text2: 0.9999998807907104\n"
          ]
        }
      ],
      "source": [
        "from sklearn.metrics.pairwise import cosine_similarity\n",
        "\n",
        "cos_sim = cosine_similarity(embeddings, embeddings2)\n",
        "\n",
        "print(f\"Cosine similarity between text1 and text2: {cos_sim[0][0]}\")"
      ]
    },
    {
      "cell_type": "code",
      "execution_count": null,
      "metadata": {},
      "outputs": [],
      "source": []
    }
  ],
  "metadata": {
    "colab": {
      "provenance": []
    },
    "kernelspec": {
      "display_name": "Python 3",
      "name": "python3"
    },
    "language_info": {
      "codemirror_mode": {
        "name": "ipython",
        "version": 3
      },
      "file_extension": ".py",
      "mimetype": "text/x-python",
      "name": "python",
      "nbconvert_exporter": "python",
      "pygments_lexer": "ipython3",
      "version": "3.11.5"
    }
  },
  "nbformat": 4,
  "nbformat_minor": 0
}
