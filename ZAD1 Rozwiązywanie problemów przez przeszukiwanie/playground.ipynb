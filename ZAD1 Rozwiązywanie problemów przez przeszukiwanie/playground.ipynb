{
  "cells": [
    {
      "cell_type": "code",
      "execution_count": null,
      "metadata": {
        "id": "ULXkKw2GZjJ3"
      },
      "outputs": [],
      "source": [
        "import pandas as pd\n",
        "\n",
        "DAY = 24*60*60"
      ]
    },
    {
      "cell_type": "code",
      "execution_count": null,
      "metadata": {
        "colab": {
          "base_uri": "https://localhost:8080/",
          "height": 304
        },
        "id": "vGzYwKxkZjJ4",
        "outputId": "3bbe88d9-17e4-4771-d65f-fda9aa80ebec"
      },
      "outputs": [],
      "source": [
        "df = pd.read_csv('./connection_graph.csv', index_col=0, low_memory=False)\n",
        "df"
      ]
    },
    {
      "cell_type": "code",
      "execution_count": null,
      "metadata": {
        "id": "xW-ifBW4ZjJ5"
      },
      "outputs": [],
      "source": [
        "# rm the first column and duplicate rows\n",
        "# df = df.drop(df.columns[0], axis=1)\n",
        "# df.drop_duplicates(inplace=True)\n",
        "df\n",
        "# save to file"
      ]
    },
    {
      "cell_type": "code",
      "execution_count": null,
      "metadata": {
        "id": "5OIhJ4-4ZjJ5"
      },
      "outputs": [],
      "source": [
        "# df.to_csv('./connection_graph.csv')"
      ]
    },
    {
      "cell_type": "code",
      "execution_count": null,
      "metadata": {
        "id": "7u29Bz1KZjJ5"
      },
      "outputs": [],
      "source": [
        "def get_sec_from_str(time_str):\n",
        "    time_str = time_str.split(':')\n",
        "    return (int(time_str[0]) * 3600 + int(time_str[1]) * 60 + int(time_str[2])) % DAY\n",
        "\n",
        "df['departure_time_sec'] = df['departure_time'].apply(get_sec_from_str)\n",
        "df['arrival_time_sec'] = df['arrival_time'].apply(get_sec_from_str)\n",
        "df"
      ]
    },
    {
      "cell_type": "code",
      "execution_count": null,
      "metadata": {
        "id": "GMIjusXOZjJ5"
      },
      "outputs": [],
      "source": [
        "stops = df['start_stop'].unique()\n",
        "stops, stops.shape"
      ]
    },
    {
      "cell_type": "code",
      "execution_count": null,
      "metadata": {
        "id": "mSwJosXpZjJ5"
      },
      "outputs": [],
      "source": [
        "import numpy as np\n",
        "\n",
        "import networkx as nx\n",
        "\n",
        "graph = nx.DiGraph()\n",
        "for stop in stops:\n",
        "    graph.add_node(stop)\n",
        "\n",
        "for number, edge in df.iterrows():\n",
        "  if not graph.has_edge(edge['start_stop'], edge['end_stop']):\n",
        "    graph.add_edge(edge['start_stop'], edge['end_stop'], schedule=[])\n",
        "\n",
        "  graph[edge['start_stop']] [edge['end_stop']] ['schedule'].append({\n",
        "    'dep': edge['departure_time_sec'],\n",
        "    'line': edge['line'],\n",
        "    'end_stop_lat': edge['end_stop_lat'],\n",
        "    'end_stop_lon': edge['end_stop_lon'],\n",
        "    'arrival': edge['arrival_time_sec'],\n",
        "    'id': number\n",
        "    })\n",
        "\n",
        "\n",
        "def convert_to_dataframe(graph):\n",
        "  for start, stop in graph.edges:\n",
        "    graph[start][stop]['schedule'] = pd.DataFrame(graph[start][stop]['schedule'])\n",
        "\n",
        "convert_to_dataframe(graph)"
      ]
    },
    {
      "cell_type": "code",
      "execution_count": null,
      "metadata": {
        "id": "_L0KhxeFZjJ6"
      },
      "outputs": [],
      "source": [
        "def print_graph(graph):\n",
        "  for start, stop in graph.edges:\n",
        "    print(start, '->', stop)\n",
        "    print(graph[start][stop]['schedule'])\n",
        "# print_graph(graph)"
      ]
    },
    {
      "cell_type": "code",
      "execution_count": 81,
      "metadata": {
        "id": "HtMr3LlNZjJ6"
      },
      "outputs": [
        {
          "data": {
            "text/plain": [
              "[<__main__.NodeFeatures at 0x7c1d3245b9d0>,\n",
              " <__main__.NodeFeatures at 0x7c1d3245b390>,\n",
              " <__main__.NodeFeatures at 0x7c1d356ea390>,\n",
              " <__main__.NodeFeatures at 0x7c1d33182d10>,\n",
              " <__main__.NodeFeatures at 0x7c1d30022f10>,\n",
              " <__main__.NodeFeatures at 0x7c1d30022fd0>,\n",
              " <__main__.NodeFeatures at 0x7c1d30021510>,\n",
              " <__main__.NodeFeatures at 0x7c1d30023150>,\n",
              " <__main__.NodeFeatures at 0x7c1d30022210>,\n",
              " <__main__.NodeFeatures at 0x7c1d30023bd0>,\n",
              " <__main__.NodeFeatures at 0x7c1d30023b50>,\n",
              " <__main__.NodeFeatures at 0x7c1d33183750>]"
            ]
          },
          "execution_count": 81,
          "metadata": {},
          "output_type": "execute_result"
        }
      ],
      "source": [
        "from typing import Dict\n",
        "\n",
        "\n",
        "class MinProperties:\n",
        "  def reset(self):\n",
        "    self.min = float('inf')\n",
        "    self.min_diff = float('inf')\n",
        "    self.min_idx = 0\n",
        "\n",
        "min_properties = MinProperties()  \n",
        "\n",
        "def difference(row, departure, additional_cost=0):\n",
        "    global min_properties\n",
        "    arrival = row['arrival']\n",
        "    new_departure = row['dep']\n",
        "\n",
        "    if departure > new_departure > 0 and departure - new_departure < 10 * 60 * 60:\n",
        "        return row\n",
        "    \n",
        "    value = (arrival - departure + DAY) % DAY + additional_cost\n",
        "\n",
        "    if value < min_properties.min_diff:\n",
        "        min_properties.min = arrival\n",
        "        min_properties.min_diff = value\n",
        "        min_properties.min_idx = row['id']\n",
        "    return row\n",
        "\n",
        "class NodeFeatures:\n",
        "  def __init__(self, id, name: str, time: float, prev):\n",
        "    self.id = id\n",
        "    self.name = name\n",
        "    self.time = time # departue time\n",
        "    self.prev = prev\n",
        "\n",
        "  def set_time(self, departure, edge: float, prev):\n",
        "    time, id = self.get_best_time(edge, departure)\n",
        "\n",
        "    if time < self.time:\n",
        "      self.prev = prev\n",
        "      self.id = id\n",
        "      self.time = time\n",
        "\n",
        "  def get_best_time(self, edge, departure):\n",
        "    schedule = edge['schedule']\n",
        "\n",
        "    min_properties.reset()\n",
        "    schedule.apply(difference, axis=1, args=(departure,))\n",
        "\n",
        "    return min_properties.min, min_properties.min_idx\n",
        "\n",
        "def get_best_path(visited: Dict[str, NodeFeatures], destination: str):\n",
        "  start = visited[destination]\n",
        "  path = [start]\n",
        "\n",
        "  while start.prev:\n",
        "    start = start.prev\n",
        "    path.append(start)\n",
        "\n",
        "  return path[::-1]\n",
        "\n",
        "\n",
        "np.seterr(divide='ignore', invalid='ignore')\n",
        "\n",
        "def djikstra(graph: nx.Graph, start: str, destination: str, starting_time: int):\n",
        "  unvisited: Dict[str, NodeFeatures] = {node: NodeFeatures(-1, node, np.inf, None) for node in graph.nodes}\n",
        "  visited: Dict[str, NodeFeatures] = {}\n",
        "\n",
        "  start_stop = unvisited.pop(start)\n",
        "  start_stop.time = starting_time\n",
        "\n",
        "  while unvisited:\n",
        "    neighbours = graph[start_stop.name]\n",
        "    best_neighbour = NodeFeatures(-1, \"\", np.inf, None)\n",
        "    for neigbour in neighbours:\n",
        "      if not neigbour in unvisited:\n",
        "        continue\n",
        "\n",
        "      unvisited[neigbour].set_time(start_stop.time, neighbours[neigbour], start_stop)\n",
        "\n",
        "      # ex 23:50 > 00:10 ... and best_neighbour.time - unvisited[neigbour].time < 10 * 60 * 60\n",
        "      if best_neighbour.time > unvisited[neigbour].time:\n",
        "        best_neighbour = unvisited[neigbour]\n",
        "\n",
        "    if best_neighbour.time == np.inf:\n",
        "      start_stop = unvisited.popitem()[1]\n",
        "      continue\n",
        "\n",
        "    visited[start_stop.name] = start_stop\n",
        "    start_stop = unvisited.pop(best_neighbour.name)\n",
        "\n",
        "  return get_best_path(visited, destination)\n",
        "\n",
        "\n",
        "visited = djikstra(graph, 'DWORZEC AUTOBUSOWY', 'FAT', 23 * 60 * 60 + 30 * 60)\n",
        "visited"
      ]
    },
    {
      "cell_type": "code",
      "execution_count": 82,
      "metadata": {
        "id": "9bmnn2OUZjJ6"
      },
      "outputs": [
        {
          "name": "stdout",
          "output_type": "stream",
          "text": [
            "\n",
            "['243' 'DWORZEC AUTOBUSOWY' 'EPI' '23:33:00' '23:35:00']\n",
            "\n",
            "['250' 'EPI' 'DWORZEC GŁÓWNY' '24:04:00' '24:05:00']\n",
            "\n",
            "['247' 'DWORZEC GŁÓWNY' 'Arkady (Capitol)' '24:21:00' '24:23:00']\n",
            "\n",
            "['251' 'Arkady (Capitol)' 'pl. Legionów' '24:37:00' '24:40:00']\n",
            "\n",
            "['251' 'pl. Legionów' 'Grabiszyńska' '24:40:00' '24:42:00']\n",
            "\n",
            "['251' 'Grabiszyńska' 'Pereca' '24:42:00' '24:43:00']\n",
            "\n",
            "['251' 'Pereca' 'Stalowa' '24:43:00' '24:44:00']\n",
            "\n",
            "['251' 'Stalowa' 'pl. Srebrny' '24:44:00' '24:44:00']\n",
            "\n",
            "['251' 'pl. Srebrny' 'Bzowa (Centrum Historii Zajezdnia)' '24:44:00'\n",
            " '24:45:00']\n",
            "\n",
            "['251' 'Bzowa (Centrum Historii Zajezdnia)' 'Hutmen' '24:45:00' '24:46:00']\n",
            "\n",
            "['251' 'Hutmen' 'FAT' '24:46:00' '24:48:00']\n",
            "\n"
          ]
        }
      ],
      "source": [
        "pd.set_option('display.max_columns', 500)\n",
        "pd.set_option('display.width', 1000)\n",
        "\n",
        "node = None\n",
        "for idx, node in enumerate(visited):\n",
        "  # print(node.name, node.time)\n",
        "  try:\n",
        "    row = df.loc[node.id]\n",
        "    # display only the most important columns: line, start_stop, end_stop, departure_time, arrival_time\n",
        "    print(row[['line', 'start_stop', 'end_stop', 'departure_time', 'arrival_time']].values)\n",
        "\n",
        "  except:...\n",
        "    # print(row[['line', 'start_stop', 'end_stop', 'departure_time', 'arrival_time']].columns.values)\n",
        "  print()"
      ]
    },
    {
      "cell_type": "code",
      "execution_count": null,
      "metadata": {
        "id": "oY2qZiNNZjJ7"
      },
      "outputs": [],
      "source": [
        "departure = 34900\n",
        "\n",
        "df2 = pd.DataFrame(0, index=np.arange(df.shape[0]), columns=['diff'])\n",
        "df2['diff'] = (df['departure_time_sec'] + DAY - departure) % DAY\n",
        "\n",
        "# df2['diff'].min() find min and index of min\n",
        "df2[df2['diff'] > 0].idxmin().iloc[0]"
      ]
    },
    {
      "cell_type": "code",
      "execution_count": 84,
      "metadata": {
        "id": "pfyTvOzmZjJ7"
      },
      "outputs": [
        {
          "ename": "ValueError",
          "evalue": "The truth value of a Series is ambiguous. Use a.empty, a.bool(), a.item(), a.any() or a.all().",
          "output_type": "error",
          "traceback": [
            "\u001b[0;31m---------------------------------------------------------------------------\u001b[0m",
            "\u001b[0;31mValueError\u001b[0m                                Traceback (most recent call last)",
            "\u001b[0;32m/tmp/ipykernel_6498/1720350615.py\u001b[0m in \u001b[0;36m?\u001b[0;34m()\u001b[0m\n\u001b[1;32m     91\u001b[0m \u001b[0;34m\u001b[0m\u001b[0m\n\u001b[1;32m     92\u001b[0m   \u001b[0;32mreturn\u001b[0m \u001b[0mget_best_path\u001b[0m\u001b[0;34m(\u001b[0m\u001b[0mvisited\u001b[0m\u001b[0;34m,\u001b[0m \u001b[0mdestination\u001b[0m\u001b[0;34m)\u001b[0m\u001b[0;34m\u001b[0m\u001b[0;34m\u001b[0m\u001b[0m\n\u001b[1;32m     93\u001b[0m \u001b[0;34m\u001b[0m\u001b[0m\n\u001b[1;32m     94\u001b[0m \u001b[0;34m\u001b[0m\u001b[0m\n\u001b[0;32m---> 95\u001b[0;31m \u001b[0mvisited\u001b[0m \u001b[0;34m=\u001b[0m \u001b[0ma_star\u001b[0m\u001b[0;34m(\u001b[0m\u001b[0mgraph\u001b[0m\u001b[0;34m,\u001b[0m \u001b[0;34m'DWORZEC AUTOBUSOWY'\u001b[0m\u001b[0;34m,\u001b[0m \u001b[0;34m'FAT'\u001b[0m\u001b[0;34m,\u001b[0m \u001b[0;36m34900\u001b[0m\u001b[0;34m)\u001b[0m\u001b[0;34m\u001b[0m\u001b[0;34m\u001b[0m\u001b[0m\n\u001b[0m\u001b[1;32m     96\u001b[0m \u001b[0mvisited\u001b[0m\u001b[0;34m\u001b[0m\u001b[0;34m\u001b[0m\u001b[0m\n",
            "\u001b[0;32m/tmp/ipykernel_6498/1720350615.py\u001b[0m in \u001b[0;36m?\u001b[0;34m(graph, start, destination, starting_time)\u001b[0m\n\u001b[1;32m     76\u001b[0m     \u001b[0;32mfor\u001b[0m \u001b[0mneigbour\u001b[0m \u001b[0;32min\u001b[0m \u001b[0mneighbours\u001b[0m\u001b[0;34m:\u001b[0m\u001b[0;34m\u001b[0m\u001b[0;34m\u001b[0m\u001b[0m\n\u001b[1;32m     77\u001b[0m       \u001b[0;32mif\u001b[0m \u001b[0;32mnot\u001b[0m \u001b[0mneigbour\u001b[0m \u001b[0;32min\u001b[0m \u001b[0munvisited\u001b[0m\u001b[0;34m:\u001b[0m\u001b[0;34m\u001b[0m\u001b[0;34m\u001b[0m\u001b[0m\n\u001b[1;32m     78\u001b[0m         \u001b[0;32mcontinue\u001b[0m\u001b[0;34m\u001b[0m\u001b[0;34m\u001b[0m\u001b[0m\n\u001b[1;32m     79\u001b[0m \u001b[0;34m\u001b[0m\u001b[0m\n\u001b[0;32m---> 80\u001b[0;31m       \u001b[0munvisited\u001b[0m\u001b[0;34m[\u001b[0m\u001b[0mneigbour\u001b[0m\u001b[0;34m]\u001b[0m\u001b[0;34m.\u001b[0m\u001b[0mset_time\u001b[0m\u001b[0;34m(\u001b[0m\u001b[0mstart_stop\u001b[0m\u001b[0;34m.\u001b[0m\u001b[0mtime\u001b[0m\u001b[0;34m,\u001b[0m \u001b[0mneighbours\u001b[0m\u001b[0;34m[\u001b[0m\u001b[0mneigbour\u001b[0m\u001b[0;34m]\u001b[0m\u001b[0;34m,\u001b[0m \u001b[0mstart_stop\u001b[0m\u001b[0;34m)\u001b[0m\u001b[0;34m\u001b[0m\u001b[0;34m\u001b[0m\u001b[0m\n\u001b[0m\u001b[1;32m     81\u001b[0m \u001b[0;34m\u001b[0m\u001b[0m\n\u001b[1;32m     82\u001b[0m       \u001b[0;32mif\u001b[0m \u001b[0mbest_neighbour\u001b[0m\u001b[0;34m.\u001b[0m\u001b[0mtime\u001b[0m \u001b[0;34m>\u001b[0m \u001b[0munvisited\u001b[0m\u001b[0;34m[\u001b[0m\u001b[0mneigbour\u001b[0m\u001b[0;34m]\u001b[0m\u001b[0;34m.\u001b[0m\u001b[0mtime\u001b[0m\u001b[0;34m:\u001b[0m\u001b[0;34m\u001b[0m\u001b[0;34m\u001b[0m\u001b[0m\n\u001b[1;32m     83\u001b[0m         \u001b[0mbest_neighbour\u001b[0m \u001b[0;34m=\u001b[0m \u001b[0munvisited\u001b[0m\u001b[0;34m[\u001b[0m\u001b[0mneigbour\u001b[0m\u001b[0;34m]\u001b[0m\u001b[0;34m\u001b[0m\u001b[0;34m\u001b[0m\u001b[0m\n",
            "\u001b[0;32m/tmp/ipykernel_6498/1720350615.py\u001b[0m in \u001b[0;36m?\u001b[0;34m(self, departure, edge, prev)\u001b[0m\n\u001b[1;32m     12\u001b[0m   \u001b[0;32mdef\u001b[0m \u001b[0mset_time\u001b[0m\u001b[0;34m(\u001b[0m\u001b[0mself\u001b[0m\u001b[0;34m,\u001b[0m \u001b[0mdeparture\u001b[0m\u001b[0;34m,\u001b[0m \u001b[0medge\u001b[0m\u001b[0;34m:\u001b[0m \u001b[0mfloat\u001b[0m\u001b[0;34m,\u001b[0m \u001b[0mprev\u001b[0m\u001b[0;34m)\u001b[0m\u001b[0;34m:\u001b[0m\u001b[0;34m\u001b[0m\u001b[0;34m\u001b[0m\u001b[0m\n\u001b[0;32m---> 13\u001b[0;31m     \u001b[0mtime\u001b[0m\u001b[0;34m,\u001b[0m \u001b[0mid\u001b[0m \u001b[0;34m=\u001b[0m \u001b[0mself\u001b[0m\u001b[0;34m.\u001b[0m\u001b[0mget_best_time\u001b[0m\u001b[0;34m(\u001b[0m\u001b[0medge\u001b[0m\u001b[0;34m,\u001b[0m \u001b[0mdeparture\u001b[0m\u001b[0;34m)\u001b[0m\u001b[0;34m\u001b[0m\u001b[0;34m\u001b[0m\u001b[0m\n\u001b[0m\u001b[1;32m     14\u001b[0m \u001b[0;34m\u001b[0m\u001b[0m\n\u001b[1;32m     15\u001b[0m     \u001b[0mprint\u001b[0m\u001b[0;34m(\u001b[0m\u001b[0;34m\"time\"\u001b[0m\u001b[0;34m,\u001b[0m \u001b[0mtime\u001b[0m\u001b[0;34m)\u001b[0m\u001b[0;34m\u001b[0m\u001b[0;34m\u001b[0m\u001b[0m\n\u001b[1;32m     16\u001b[0m     \u001b[0mprint\u001b[0m\u001b[0;34m(\u001b[0m\u001b[0;34m\"self.time\"\u001b[0m\u001b[0;34m,\u001b[0m \u001b[0mself\u001b[0m\u001b[0;34m.\u001b[0m\u001b[0mtime\u001b[0m\u001b[0;34m)\u001b[0m\u001b[0;34m\u001b[0m\u001b[0;34m\u001b[0m\u001b[0m\n",
            "\u001b[0;32m/tmp/ipykernel_6498/1720350615.py\u001b[0m in \u001b[0;36m?\u001b[0;34m(self, edge, departure)\u001b[0m\n\u001b[1;32m     25\u001b[0m     \u001b[0;31m# times = schedule[['arrival']]\u001b[0m\u001b[0;34m\u001b[0m\u001b[0;34m\u001b[0m\u001b[0m\n\u001b[1;32m     26\u001b[0m \u001b[0;34m\u001b[0m\u001b[0m\n\u001b[1;32m     27\u001b[0m     \u001b[0mdistance_cost\u001b[0m \u001b[0;34m=\u001b[0m \u001b[0mcalculate_manhatan\u001b[0m\u001b[0;34m(\u001b[0m\u001b[0mschedule\u001b[0m\u001b[0;34m[\u001b[0m\u001b[0;34m'end_stop_lat'\u001b[0m\u001b[0;34m]\u001b[0m\u001b[0;34m,\u001b[0m \u001b[0mschedule\u001b[0m\u001b[0;34m[\u001b[0m\u001b[0;34m'end_stop_lon'\u001b[0m\u001b[0;34m]\u001b[0m\u001b[0;34m)\u001b[0m\u001b[0;34m\u001b[0m\u001b[0;34m\u001b[0m\u001b[0m\n\u001b[1;32m     28\u001b[0m     \u001b[0mmin_properties\u001b[0m\u001b[0;34m.\u001b[0m\u001b[0mreset\u001b[0m\u001b[0;34m(\u001b[0m\u001b[0;34m)\u001b[0m\u001b[0;34m\u001b[0m\u001b[0;34m\u001b[0m\u001b[0m\n\u001b[0;32m---> 29\u001b[0;31m     \u001b[0mschedule\u001b[0m\u001b[0;34m.\u001b[0m\u001b[0mapply\u001b[0m\u001b[0;34m(\u001b[0m\u001b[0mdifference\u001b[0m\u001b[0;34m,\u001b[0m \u001b[0maxis\u001b[0m\u001b[0;34m=\u001b[0m\u001b[0;36m1\u001b[0m\u001b[0;34m,\u001b[0m \u001b[0margs\u001b[0m\u001b[0;34m=\u001b[0m\u001b[0;34m(\u001b[0m\u001b[0mdeparture\u001b[0m\u001b[0;34m,\u001b[0m \u001b[0mdistance_cost\u001b[0m\u001b[0;34m)\u001b[0m\u001b[0;34m)\u001b[0m\u001b[0;34m\u001b[0m\u001b[0;34m\u001b[0m\u001b[0m\n\u001b[0m\u001b[1;32m     30\u001b[0m \u001b[0;34m\u001b[0m\u001b[0m\n\u001b[1;32m     31\u001b[0m     \u001b[0;32mreturn\u001b[0m \u001b[0mmin_properties\u001b[0m\u001b[0;34m.\u001b[0m\u001b[0mmin\u001b[0m\u001b[0;34m,\u001b[0m \u001b[0mmin_properties\u001b[0m\u001b[0;34m.\u001b[0m\u001b[0mmin_idx\u001b[0m\u001b[0;34m\u001b[0m\u001b[0;34m\u001b[0m\u001b[0m\n\u001b[1;32m     32\u001b[0m     \u001b[0;31m# best_time = times[times['arrival'] - distance_cost > departure].min().iloc[0]\u001b[0m\u001b[0;34m\u001b[0m\u001b[0;34m\u001b[0m\u001b[0m\n",
            "\u001b[0;32m~/anaconda3/lib/python3.11/site-packages/pandas/core/frame.py\u001b[0m in \u001b[0;36m?\u001b[0;34m(self, func, axis, raw, result_type, args, **kwargs)\u001b[0m\n\u001b[1;32m   9419\u001b[0m             \u001b[0mresult_type\u001b[0m\u001b[0;34m=\u001b[0m\u001b[0mresult_type\u001b[0m\u001b[0;34m,\u001b[0m\u001b[0;34m\u001b[0m\u001b[0;34m\u001b[0m\u001b[0m\n\u001b[1;32m   9420\u001b[0m             \u001b[0margs\u001b[0m\u001b[0;34m=\u001b[0m\u001b[0margs\u001b[0m\u001b[0;34m,\u001b[0m\u001b[0;34m\u001b[0m\u001b[0;34m\u001b[0m\u001b[0m\n\u001b[1;32m   9421\u001b[0m             \u001b[0mkwargs\u001b[0m\u001b[0;34m=\u001b[0m\u001b[0mkwargs\u001b[0m\u001b[0;34m,\u001b[0m\u001b[0;34m\u001b[0m\u001b[0;34m\u001b[0m\u001b[0m\n\u001b[1;32m   9422\u001b[0m         )\n\u001b[0;32m-> 9423\u001b[0;31m         \u001b[0;32mreturn\u001b[0m \u001b[0mop\u001b[0m\u001b[0;34m.\u001b[0m\u001b[0mapply\u001b[0m\u001b[0;34m(\u001b[0m\u001b[0;34m)\u001b[0m\u001b[0;34m.\u001b[0m\u001b[0m__finalize__\u001b[0m\u001b[0;34m(\u001b[0m\u001b[0mself\u001b[0m\u001b[0;34m,\u001b[0m \u001b[0mmethod\u001b[0m\u001b[0;34m=\u001b[0m\u001b[0;34m\"apply\"\u001b[0m\u001b[0;34m)\u001b[0m\u001b[0;34m\u001b[0m\u001b[0;34m\u001b[0m\u001b[0m\n\u001b[0m",
            "\u001b[0;32m~/anaconda3/lib/python3.11/site-packages/pandas/core/apply.py\u001b[0m in \u001b[0;36m?\u001b[0;34m(self)\u001b[0m\n\u001b[1;32m    674\u001b[0m         \u001b[0;31m# raw\u001b[0m\u001b[0;34m\u001b[0m\u001b[0;34m\u001b[0m\u001b[0m\n\u001b[1;32m    675\u001b[0m         \u001b[0;32melif\u001b[0m \u001b[0mself\u001b[0m\u001b[0;34m.\u001b[0m\u001b[0mraw\u001b[0m\u001b[0;34m:\u001b[0m\u001b[0;34m\u001b[0m\u001b[0;34m\u001b[0m\u001b[0m\n\u001b[1;32m    676\u001b[0m             \u001b[0;32mreturn\u001b[0m \u001b[0mself\u001b[0m\u001b[0;34m.\u001b[0m\u001b[0mapply_raw\u001b[0m\u001b[0;34m(\u001b[0m\u001b[0;34m)\u001b[0m\u001b[0;34m\u001b[0m\u001b[0;34m\u001b[0m\u001b[0m\n\u001b[1;32m    677\u001b[0m \u001b[0;34m\u001b[0m\u001b[0m\n\u001b[0;32m--> 678\u001b[0;31m         \u001b[0;32mreturn\u001b[0m \u001b[0mself\u001b[0m\u001b[0;34m.\u001b[0m\u001b[0mapply_standard\u001b[0m\u001b[0;34m(\u001b[0m\u001b[0;34m)\u001b[0m\u001b[0;34m\u001b[0m\u001b[0;34m\u001b[0m\u001b[0m\n\u001b[0m",
            "\u001b[0;32m~/anaconda3/lib/python3.11/site-packages/pandas/core/apply.py\u001b[0m in \u001b[0;36m?\u001b[0;34m(self)\u001b[0m\n\u001b[1;32m    797\u001b[0m     \u001b[0;32mdef\u001b[0m \u001b[0mapply_standard\u001b[0m\u001b[0;34m(\u001b[0m\u001b[0mself\u001b[0m\u001b[0;34m)\u001b[0m\u001b[0;34m:\u001b[0m\u001b[0;34m\u001b[0m\u001b[0;34m\u001b[0m\u001b[0m\n\u001b[0;32m--> 798\u001b[0;31m         \u001b[0mresults\u001b[0m\u001b[0;34m,\u001b[0m \u001b[0mres_index\u001b[0m \u001b[0;34m=\u001b[0m \u001b[0mself\u001b[0m\u001b[0;34m.\u001b[0m\u001b[0mapply_series_generator\u001b[0m\u001b[0;34m(\u001b[0m\u001b[0;34m)\u001b[0m\u001b[0;34m\u001b[0m\u001b[0;34m\u001b[0m\u001b[0m\n\u001b[0m\u001b[1;32m    799\u001b[0m \u001b[0;34m\u001b[0m\u001b[0m\n\u001b[1;32m    800\u001b[0m         \u001b[0;31m# wrap results\u001b[0m\u001b[0;34m\u001b[0m\u001b[0;34m\u001b[0m\u001b[0m\n\u001b[1;32m    801\u001b[0m         \u001b[0;32mreturn\u001b[0m \u001b[0mself\u001b[0m\u001b[0;34m.\u001b[0m\u001b[0mwrap_results\u001b[0m\u001b[0;34m(\u001b[0m\u001b[0mresults\u001b[0m\u001b[0;34m,\u001b[0m \u001b[0mres_index\u001b[0m\u001b[0;34m)\u001b[0m\u001b[0;34m\u001b[0m\u001b[0;34m\u001b[0m\u001b[0m\n",
            "\u001b[0;32m~/anaconda3/lib/python3.11/site-packages/pandas/core/apply.py\u001b[0m in \u001b[0;36m?\u001b[0;34m(self)\u001b[0m\n\u001b[1;32m    810\u001b[0m \u001b[0;34m\u001b[0m\u001b[0m\n\u001b[1;32m    811\u001b[0m         \u001b[0;32mwith\u001b[0m \u001b[0moption_context\u001b[0m\u001b[0;34m(\u001b[0m\u001b[0;34m\"mode.chained_assignment\"\u001b[0m\u001b[0;34m,\u001b[0m \u001b[0;32mNone\u001b[0m\u001b[0;34m)\u001b[0m\u001b[0;34m:\u001b[0m\u001b[0;34m\u001b[0m\u001b[0;34m\u001b[0m\u001b[0m\n\u001b[1;32m    812\u001b[0m             \u001b[0;32mfor\u001b[0m \u001b[0mi\u001b[0m\u001b[0;34m,\u001b[0m \u001b[0mv\u001b[0m \u001b[0;32min\u001b[0m \u001b[0menumerate\u001b[0m\u001b[0;34m(\u001b[0m\u001b[0mseries_gen\u001b[0m\u001b[0;34m)\u001b[0m\u001b[0;34m:\u001b[0m\u001b[0;34m\u001b[0m\u001b[0;34m\u001b[0m\u001b[0m\n\u001b[1;32m    813\u001b[0m                 \u001b[0;31m# ignore SettingWithCopy here in case the user mutates\u001b[0m\u001b[0;34m\u001b[0m\u001b[0;34m\u001b[0m\u001b[0m\n\u001b[0;32m--> 814\u001b[0;31m                 \u001b[0mresults\u001b[0m\u001b[0;34m[\u001b[0m\u001b[0mi\u001b[0m\u001b[0;34m]\u001b[0m \u001b[0;34m=\u001b[0m \u001b[0mself\u001b[0m\u001b[0;34m.\u001b[0m\u001b[0mf\u001b[0m\u001b[0;34m(\u001b[0m\u001b[0mv\u001b[0m\u001b[0;34m)\u001b[0m\u001b[0;34m\u001b[0m\u001b[0;34m\u001b[0m\u001b[0m\n\u001b[0m\u001b[1;32m    815\u001b[0m                 \u001b[0;32mif\u001b[0m \u001b[0misinstance\u001b[0m\u001b[0;34m(\u001b[0m\u001b[0mresults\u001b[0m\u001b[0;34m[\u001b[0m\u001b[0mi\u001b[0m\u001b[0;34m]\u001b[0m\u001b[0;34m,\u001b[0m \u001b[0mABCSeries\u001b[0m\u001b[0;34m)\u001b[0m\u001b[0;34m:\u001b[0m\u001b[0;34m\u001b[0m\u001b[0;34m\u001b[0m\u001b[0m\n\u001b[1;32m    816\u001b[0m                     \u001b[0;31m# If we have a view on v, we need to make a copy because\u001b[0m\u001b[0;34m\u001b[0m\u001b[0;34m\u001b[0m\u001b[0m\n\u001b[1;32m    817\u001b[0m                     \u001b[0;31m#  series_generator will swap out the underlying data\u001b[0m\u001b[0;34m\u001b[0m\u001b[0;34m\u001b[0m\u001b[0m\n",
            "\u001b[0;32m~/anaconda3/lib/python3.11/site-packages/pandas/core/apply.py\u001b[0m in \u001b[0;36m?\u001b[0;34m(x)\u001b[0m\n\u001b[1;32m    132\u001b[0m             \u001b[0;32mdef\u001b[0m \u001b[0mf\u001b[0m\u001b[0;34m(\u001b[0m\u001b[0mx\u001b[0m\u001b[0;34m)\u001b[0m\u001b[0;34m:\u001b[0m\u001b[0;34m\u001b[0m\u001b[0;34m\u001b[0m\u001b[0m\n\u001b[0;32m--> 133\u001b[0;31m                 \u001b[0;32mreturn\u001b[0m \u001b[0mfunc\u001b[0m\u001b[0;34m(\u001b[0m\u001b[0mx\u001b[0m\u001b[0;34m,\u001b[0m \u001b[0;34m*\u001b[0m\u001b[0margs\u001b[0m\u001b[0;34m,\u001b[0m \u001b[0;34m**\u001b[0m\u001b[0mkwargs\u001b[0m\u001b[0;34m)\u001b[0m\u001b[0;34m\u001b[0m\u001b[0;34m\u001b[0m\u001b[0m\n\u001b[0m",
            "\u001b[0;32m/tmp/ipykernel_6498/3915155452.py\u001b[0m in \u001b[0;36m?\u001b[0;34m(row, departure, additional_cost)\u001b[0m\n\u001b[1;32m     18\u001b[0m         \u001b[0;32mreturn\u001b[0m \u001b[0mrow\u001b[0m\u001b[0;34m\u001b[0m\u001b[0;34m\u001b[0m\u001b[0m\n\u001b[1;32m     19\u001b[0m \u001b[0;34m\u001b[0m\u001b[0m\n\u001b[1;32m     20\u001b[0m     \u001b[0mvalue\u001b[0m \u001b[0;34m=\u001b[0m \u001b[0;34m(\u001b[0m\u001b[0marrival\u001b[0m \u001b[0;34m-\u001b[0m \u001b[0mdeparture\u001b[0m \u001b[0;34m+\u001b[0m \u001b[0mDAY\u001b[0m\u001b[0;34m)\u001b[0m \u001b[0;34m%\u001b[0m \u001b[0mDAY\u001b[0m \u001b[0;34m+\u001b[0m \u001b[0madditional_cost\u001b[0m\u001b[0;34m\u001b[0m\u001b[0;34m\u001b[0m\u001b[0m\n\u001b[1;32m     21\u001b[0m \u001b[0;34m\u001b[0m\u001b[0m\n\u001b[0;32m---> 22\u001b[0;31m     \u001b[0;32mif\u001b[0m \u001b[0mvalue\u001b[0m \u001b[0;34m<\u001b[0m \u001b[0mmin_properties\u001b[0m\u001b[0;34m.\u001b[0m\u001b[0mmin_diff\u001b[0m\u001b[0;34m:\u001b[0m\u001b[0;34m\u001b[0m\u001b[0;34m\u001b[0m\u001b[0m\n\u001b[0m\u001b[1;32m     23\u001b[0m         \u001b[0mmin_properties\u001b[0m\u001b[0;34m.\u001b[0m\u001b[0mmin\u001b[0m \u001b[0;34m=\u001b[0m \u001b[0marrival\u001b[0m\u001b[0;34m\u001b[0m\u001b[0;34m\u001b[0m\u001b[0m\n\u001b[1;32m     24\u001b[0m         \u001b[0mmin_properties\u001b[0m\u001b[0;34m.\u001b[0m\u001b[0mmin_diff\u001b[0m \u001b[0;34m=\u001b[0m \u001b[0mvalue\u001b[0m\u001b[0;34m\u001b[0m\u001b[0;34m\u001b[0m\u001b[0m\n\u001b[1;32m     25\u001b[0m         \u001b[0mmin_properties\u001b[0m\u001b[0;34m.\u001b[0m\u001b[0mmin_idx\u001b[0m \u001b[0;34m=\u001b[0m \u001b[0mrow\u001b[0m\u001b[0;34m[\u001b[0m\u001b[0;34m'id'\u001b[0m\u001b[0;34m]\u001b[0m\u001b[0;34m\u001b[0m\u001b[0;34m\u001b[0m\u001b[0m\n",
            "\u001b[0;32m~/anaconda3/lib/python3.11/site-packages/pandas/core/generic.py\u001b[0m in \u001b[0;36m?\u001b[0;34m(self)\u001b[0m\n\u001b[1;32m   1464\u001b[0m     \u001b[0;34m@\u001b[0m\u001b[0mfinal\u001b[0m\u001b[0;34m\u001b[0m\u001b[0;34m\u001b[0m\u001b[0m\n\u001b[1;32m   1465\u001b[0m     \u001b[0;32mdef\u001b[0m \u001b[0m__nonzero__\u001b[0m\u001b[0;34m(\u001b[0m\u001b[0mself\u001b[0m\u001b[0;34m)\u001b[0m \u001b[0;34m->\u001b[0m \u001b[0mNoReturn\u001b[0m\u001b[0;34m:\u001b[0m\u001b[0;34m\u001b[0m\u001b[0;34m\u001b[0m\u001b[0m\n\u001b[0;32m-> 1466\u001b[0;31m         raise ValueError(\n\u001b[0m\u001b[1;32m   1467\u001b[0m             \u001b[0;34mf\"The truth value of a {type(self).__name__} is ambiguous. \"\u001b[0m\u001b[0;34m\u001b[0m\u001b[0;34m\u001b[0m\u001b[0m\n\u001b[1;32m   1468\u001b[0m             \u001b[0;34m\"Use a.empty, a.bool(), a.item(), a.any() or a.all().\"\u001b[0m\u001b[0;34m\u001b[0m\u001b[0;34m\u001b[0m\u001b[0m\n\u001b[1;32m   1469\u001b[0m         )\n",
            "\u001b[0;31mValueError\u001b[0m: The truth value of a Series is ambiguous. Use a.empty, a.bool(), a.item(), a.any() or a.all()."
          ]
        }
      ],
      "source": [
        "from typing import Dict\n",
        "\n",
        "min_properties = MinProperties()\n",
        "\n",
        "class NodeFeatures:\n",
        "  def __init__(self, id, name: str, time: float, prev):\n",
        "    self.id = id\n",
        "    self.name = name\n",
        "    self.time = time # departue time\n",
        "    self.prev = prev\n",
        "\n",
        "  def set_time(self, departure, edge: float, prev):\n",
        "    time, id = self.get_best_time(edge, departure)\n",
        "\n",
        "    print(\"time\", time)\n",
        "    print(\"self.time\", self.time)\n",
        "    if time < self.time:\n",
        "      self.prev = prev\n",
        "      self.id = id\n",
        "      self.time = time\n",
        "      return id\n",
        "\n",
        "  def get_best_time(self, edge, departure):\n",
        "    schedule = edge['schedule']\n",
        "    # times = schedule[['arrival']]\n",
        "\n",
        "    distance_cost = calculate_manhatan(schedule['end_stop_lat'], schedule['end_stop_lon'])\n",
        "    min_properties.reset()\n",
        "    schedule.apply(difference, axis=1, args=(departure, distance_cost))\n",
        "\n",
        "    return min_properties.min, min_properties.min_idx\n",
        "    # best_time = times[times['arrival'] - distance_cost > departure].min().iloc[0]\n",
        "\n",
        "    # try:\n",
        "    #   idx = times[times['arrival'] - distance_cost > departure].idxmin()\n",
        "    #   row = schedule['id'][idx]\n",
        "    # except:\n",
        "    #   row = None\n",
        "\n",
        "    # return best_time, row\n",
        "\n",
        "def get_best_path(visited: Dict[str, NodeFeatures], destination: str):\n",
        "  start = visited[destination]\n",
        "  path = [start]\n",
        "\n",
        "  while start.prev:\n",
        "    start = start.prev\n",
        "    path.append(start)\n",
        "\n",
        "  return path[::-1]\n",
        "\n",
        "def calculate_manhatan(start_lat, start_long):\n",
        "  global target_lat, target_long, TRAM_SPEED\n",
        "  return (abs(start_lat - target_lat) + abs(start_long - target_long)) / TRAM_SPEED\n",
        "\n",
        "np.seterr(divide='ignore', invalid='ignore')\n",
        "\n",
        "TRAM_SPEED = 16 * 1000 / 3600\n",
        "target_lat = None\n",
        "target_lat = None\n",
        "\n",
        "def a_star(graph: nx.Graph, start: str, destination: str, starting_time: int):\n",
        "  global target_long, target_lat\n",
        "  target_lat = df[df['start_stop'] == destination].iloc[0]['start_stop_lat']\n",
        "  target_long = df[df['start_stop'] == destination].iloc[0]['start_stop_lon']\n",
        "\n",
        "  unvisited: Dict[str, NodeFeatures] = {node: NodeFeatures(-1, node, np.inf, None) for node in graph.nodes}\n",
        "  visited: Dict[str, NodeFeatures] = {}\n",
        "\n",
        "  start_stop = unvisited.pop(start)\n",
        "  start_stop.time = starting_time\n",
        "\n",
        "  while unvisited:\n",
        "    neighbours = graph[start_stop.name]\n",
        "    best_neighbour = NodeFeatures(-1, \"\", np.inf, None)\n",
        "    for neigbour in neighbours:\n",
        "      if not neigbour in unvisited:\n",
        "        continue\n",
        "\n",
        "      unvisited[neigbour].set_time(start_stop.time, neighbours[neigbour], start_stop)\n",
        "\n",
        "      if best_neighbour.time > unvisited[neigbour].time:\n",
        "        best_neighbour = unvisited[neigbour]\n",
        "\n",
        "    if best_neighbour.time == np.inf:\n",
        "      start_stop = unvisited.popitem()[1]\n",
        "      continue\n",
        "\n",
        "    visited[start_stop.name] = start_stop\n",
        "    start_stop = unvisited.pop(best_neighbour.name)\n",
        "\n",
        "  return get_best_path(visited, destination)\n",
        "\n",
        "\n",
        "visited = a_star(graph, 'DWORZEC AUTOBUSOWY', 'FAT', 34900)\n",
        "visited"
      ]
    },
    {
      "cell_type": "code",
      "execution_count": null,
      "metadata": {
        "id": "-yS7UAdM5rYa"
      },
      "outputs": [],
      "source": [
        "for idx, node in enumerate(visited):\n",
        "  # print(node.name, node.time)\n",
        "  try:\n",
        "    row = df.loc[node.id]\n",
        "    # display only the most important columns: line, start_stop, end_stop, departure_time, arrival_time\n",
        "    print(row[['line', 'start_stop', 'end_stop', 'departure_time', 'arrival_time']].values)\n",
        "\n",
        "  except:...\n",
        "    # print(row[['line', 'start_stop', 'end_stop', 'departure_time', 'arrival_time']].columns.values)\n",
        "  print()"
      ]
    },
    {
      "cell_type": "code",
      "execution_count": null,
      "metadata": {
        "id": "buUnYvgf5tB_"
      },
      "outputs": [],
      "source": [
        "\n",
        "class NodeFeatures3:\n",
        "  def __init__(self, id, name: str, time: float, prev):\n",
        "    self.id = id\n",
        "    self.name = name\n",
        "    self.line = \"\"\n",
        "    self.time = time # departue time\n",
        "    self.prev = prev\n",
        "\n",
        "  def set_time(self, departure, edge: float, prev):\n",
        "    time, id = self.get_best_time(edge, departure)\n",
        "\n",
        "    if time < self.time:\n",
        "      self.prev = prev\n",
        "      self.id = id['id']\n",
        "      self.line = id['line']\n",
        "      self.time = time\n",
        "      return id\n",
        "\n",
        "  def get_best_time(self, edge, departure):\n",
        "    schedule = edge['schedule']\n",
        "    try:\n",
        "      connection = schedule[calculate_cost(schedule, departure)][0]\n",
        "      best_time = departure.time\n",
        "    except:\n",
        "      connection = schedule.iloc[0]\n",
        "      best_time = departure.time + 1.0\n",
        "\n",
        "    print(connection)\n",
        "    return best_time, connection\n",
        "\n",
        "def calculate_cost(schedule, departure):\n",
        "  return schedule['line'] == departure.line\n",
        "\n",
        "def get_best_path(visited: Dict[str, NodeFeatures3], destination: str):\n",
        "  start = visited[destination]\n",
        "  path = [start]\n",
        "\n",
        "  while start.prev:\n",
        "    start = start.prev\n",
        "    path.append(start)\n",
        "\n",
        "  return path[::-1]\n",
        "\n",
        "def calculate_manhatan(start_lat, start_long):\n",
        "  global target_lat, target_long, TRAM_SPEED\n",
        "  return (abs(start_lat - target_lat) + abs(start_long - target_long)) / TRAM_SPEED\n",
        "\n",
        "np.seterr(divide='ignore', invalid='ignore')\n",
        "\n",
        "TRAM_SPEED = 16 * 1000 / 3600\n",
        "target_lat = None\n",
        "target_lat = None\n",
        "\n",
        "def a_star_changings(graph: nx.Graph, start: str, destination: str, starting_time: int):\n",
        "  global target_long, target_lat\n",
        "  target_lat = df[df['start_stop'] == destination].iloc[0]['start_stop_lat']\n",
        "  target_long = df[df['start_stop'] == destination].iloc[0]['start_stop_lon']\n",
        "\n",
        "  unvisited: Dict[str, NodeFeatures3] = {node: NodeFeatures3(-1, node, np.inf, None) for node in graph.nodes}\n",
        "  visited: Dict[str, NodeFeatures3] = {}\n",
        "\n",
        "  start_stop = unvisited.pop(start)\n",
        "  start_stop.time = 0\n",
        "\n",
        "  while unvisited:\n",
        "    neighbours = graph[start_stop.name]\n",
        "    best_neighbour = NodeFeatures3(-1, \"\", np.inf, None)\n",
        "    for neigbour in neighbours:\n",
        "      if not neigbour in unvisited:\n",
        "        continue\n",
        "\n",
        "      unvisited[neigbour].set_time(start_stop, neighbours[neigbour], start_stop)\n",
        "\n",
        "      if best_neighbour.time > unvisited[neigbour].time:\n",
        "        best_neighbour = unvisited[neigbour]\n",
        "\n",
        "    if best_neighbour.time == np.inf:\n",
        "      start_stop = unvisited.popitem()[1]\n",
        "      continue\n",
        "\n",
        "    visited[start_stop.name] = start_stop\n",
        "    start_stop = unvisited.pop(best_neighbour.name)\n",
        "\n",
        "  return get_best_path(visited, destination)\n",
        "\n",
        "\n",
        "visited = a_star_changings(graph, 'DWORZEC AUTOBUSOWY', 'FAT', 34900)\n",
        "visited"
      ]
    },
    {
      "cell_type": "code",
      "execution_count": null,
      "metadata": {},
      "outputs": [],
      "source": [
        "for idx, node in enumerate(visited):\n",
        "  # print(node.name, node.time)\n",
        "  print(node.line, node.name, node.time)\n",
        "  try:\n",
        "    row = df.loc[node.id]\n",
        "    # display only the most important columns: line, start_stop, end_stop, departure_time, arrival_time\n",
        "    print(row[['line', 'start_stop', 'end_stop', 'departure_time', 'arrival_time']].values)\n",
        "\n",
        "  except:...\n",
        "    # print(row[['line', 'start_stop', 'end_stop', 'departure_time', 'arrival_time']].columns.values)\n",
        "  print()"
      ]
    },
    {
      "cell_type": "code",
      "execution_count": null,
      "metadata": {},
      "outputs": [],
      "source": [
        "\n",
        "# times[['departure_sec']].max()\n"
      ]
    },
    {
      "cell_type": "code",
      "execution_count": null,
      "metadata": {},
      "outputs": [],
      "source": [
        "\n",
        "times = df[df['start_stop'] == 'DWORZEC AUTOBUSOWY'][df['end_stop'] == 'FAT']\n",
        "best_time = times[times['arrival'] > departure].min().iloc[0]\n",
        "\n",
        "idx = times[times['arrival'] > departure].idxmin()"
      ]
    },
    {
      "cell_type": "code",
      "execution_count": null,
      "metadata": {},
      "outputs": [],
      "source": [
        "min = float('inf')\n",
        "min_diff = float('inf')\n",
        "min_idx = 0\n",
        "def difference(row, departure):\n",
        "    global min, min_idx, min_diff\n",
        "    arrival = row['arrival_time_sec']\n",
        "    new_departure = row['departure_time_sec']\n",
        "\n",
        "    if departure > new_departure > 0 and departure - new_departure < 10 * 60 * 60:\n",
        "        return row\n",
        "    \n",
        "    value = (arrival - departure + DAY) % DAY\n",
        "\n",
        "    if value < min_diff:\n",
        "        min = arrival\n",
        "        min_diff = value\n",
        "        min_idx = row.name\n",
        "    return row\n",
        "\n",
        "\n",
        "departure = 86290\n",
        "times = df[df['start_stop'] == 'DWORZEC AUTOBUSOWY']\n",
        "\n",
        "times.apply(difference, axis=1, args=(departure,))\n",
        "min, min_idx"
      ]
    },
    {
      "cell_type": "code",
      "execution_count": null,
      "metadata": {},
      "outputs": [],
      "source": [
        "df.loc[min_idx]"
      ]
    },
    {
      "cell_type": "code",
      "execution_count": null,
      "metadata": {},
      "outputs": [],
      "source": [
        "df[df['start_stop'] == 'DWORZEC AUTOBUSOWY'].sort_values(by='arrival_time_sec', ascending=False)\n"
      ]
    },
    {
      "cell_type": "code",
      "execution_count": null,
      "metadata": {},
      "outputs": [],
      "source": []
    },
    {
      "cell_type": "code",
      "execution_count": null,
      "metadata": {},
      "outputs": [],
      "source": []
    },
    {
      "cell_type": "code",
      "execution_count": null,
      "metadata": {},
      "outputs": [],
      "source": []
    }
  ],
  "metadata": {
    "colab": {
      "provenance": []
    },
    "kernelspec": {
      "display_name": "base",
      "language": "python",
      "name": "python3"
    },
    "language_info": {
      "codemirror_mode": {
        "name": "ipython",
        "version": 3
      },
      "file_extension": ".py",
      "mimetype": "text/x-python",
      "name": "python",
      "nbconvert_exporter": "python",
      "pygments_lexer": "ipython3",
      "version": "3.11.5"
    }
  },
  "nbformat": 4,
  "nbformat_minor": 0
}
